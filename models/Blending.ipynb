{
 "cells": [
  {
   "cell_type": "code",
   "execution_count": 1,
   "metadata": {},
   "outputs": [],
   "source": [
    "import numpy as np \n",
    "import pandas as pd"
   ]
  },
  {
   "cell_type": "code",
   "execution_count": 2,
   "metadata": {},
   "outputs": [],
   "source": [
    "def rmspe(y_true, y_pred):\n",
    "    return np.sqrt(np.mean(np.square((y_true - y_pred) / y_true)))"
   ]
  },
  {
   "cell_type": "code",
   "execution_count": 3,
   "metadata": {},
   "outputs": [],
   "source": [
    "train = pd.read_pickle('input/train_248.pkl')\n",
    "test = pd.read_pickle('input/test_247.pkl')\n",
    "\n",
    "# valid\n",
    "valid_pred_lgb1 = pd.read_csv('outputs/valid_pred_lgb1.csv')\n",
    "valid_pred_lgb2 = pd.read_csv('outputs/valid_pred_lgb2.csv')\n",
    "valid_pred_nn1 = pd.read_csv('outputs/nn1_valid_pred.csv')\n",
    "valid_pred_nn2 = pd.read_csv('outputs/nn2_valid_pred.csv')\n",
    "valid_pred_tabnet = pd.read_csv('outputs/valid_pred_tabnet.csv')\n",
    "\n",
    "# load predict data..."
   ]
  },
  {
   "cell_type": "code",
   "execution_count": 4,
   "metadata": {},
   "outputs": [],
   "source": [
    "valid_pred_lgb1 = np.array(valid_pred_lgb1).reshape(-1)\n",
    "valid_pred_lgb2 = np.array(valid_pred_lgb2).reshape(-1)\n",
    "\n",
    "valid_pred_nn1 = np.array(valid_pred_nn1).reshape(-1)\n",
    "valid_pred_nn2 = np.array(valid_pred_nn2).reshape(-1)\n",
    "\n",
    "valid_pred_tabnet = np.array(valid_pred_tabnet).reshape(-1)"
   ]
  },
  {
   "cell_type": "code",
   "execution_count": 5,
   "metadata": {},
   "outputs": [
    {
     "data": {
      "text/plain": [
       "(array([0.00416712, 0.00153504, 0.00214595, ..., 0.00313415, 0.00451236,\n",
       "        0.00206082]),\n",
       " array([0.00431598, 0.00163058, 0.00222032, ..., 0.00320257, 0.00465226,\n",
       "        0.00206749]),\n",
       " array([0.00366505, 0.0014547 , 0.00219503, ..., 0.00327135, 0.00471491,\n",
       "        0.00199602]),\n",
       " array([0.00370796, 0.00146185, 0.0021736 , ..., 0.00322349, 0.00478484,\n",
       "        0.0019784 ]),\n",
       " array([0.00395556, 0.00151696, 0.00234024, ..., 0.00327264, 0.00481214,\n",
       "        0.00210196]))"
      ]
     },
     "execution_count": 5,
     "metadata": {},
     "output_type": "execute_result"
    }
   ],
   "source": [
    "valid_pred_lgb1, valid_pred_lgb2, valid_pred_nn1, valid_pred_nn2, valid_pred_tabnet"
   ]
  },
  {
   "cell_type": "code",
   "execution_count": 6,
   "metadata": {},
   "outputs": [
    {
     "data": {
      "text/plain": [
       "0.2035501074109606"
      ]
     },
     "execution_count": 6,
     "metadata": {},
     "output_type": "execute_result"
    }
   ],
   "source": [
    "# 测试比例\n",
    "valid_pred = 0.2*(0.55*valid_pred_lgb1+0.45*valid_pred_lgb2) + 0.3*(0.5*valid_pred_nn1+0.5*valid_pred_nn2) + 0.5*valid_pred_tabnet\n",
    "rmspe(np.array(train['target']), valid_pred)"
   ]
  },
  {
   "cell_type": "code",
   "execution_count": 7,
   "metadata": {},
   "outputs": [],
   "source": [
    "# 根据比例，赋值给test_pred..\n",
    "# final_pred = 0.325*(0.6*predictions_lgb1+0.4*predictions_lgb2) + 0.375*(0.3*test_predictions_nn1+0.7*test_predictions_nn2) + 0.3*test_tabnet_preds\n",
    "# final_pred"
   ]
  },
  {
   "cell_type": "code",
   "execution_count": 8,
   "metadata": {},
   "outputs": [],
   "source": [
    "# test[target_name] = final_pred\n",
    "\n",
    "# # score = round(rmspe(y_true = train[target_name].values, y_pred = train[pred_name].values),5)\n",
    "# # print('RMSPE {}: {} - Folds: {}'.format(model_name, score, scores_folds[model_name]))\n",
    "\n",
    "# display(test[['row_id', target_name]].head(3))\n",
    "# test[['row_id', target_name]].to_csv('outputs/submission.csv',index = False)\n",
    "# #test[['row_id', target_name]].to_csv('submission.csv',index = False)\n",
    "# #kmeans N=5 [0.2101, 0.21399, 0.20923, 0.21398, 0.21175]"
   ]
  },
  {
   "cell_type": "code",
   "execution_count": null,
   "metadata": {},
   "outputs": [],
   "source": []
  }
 ],
 "metadata": {
  "kernelspec": {
   "display_name": "Python 3",
   "language": "python",
   "name": "python3"
  },
  "language_info": {
   "codemirror_mode": {
    "name": "ipython",
    "version": 3
   },
   "file_extension": ".py",
   "mimetype": "text/x-python",
   "name": "python",
   "nbconvert_exporter": "python",
   "pygments_lexer": "ipython3",
   "version": "3.8.5"
  }
 },
 "nbformat": 4,
 "nbformat_minor": 4
}
